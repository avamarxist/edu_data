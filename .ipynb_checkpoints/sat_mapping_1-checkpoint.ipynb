{
 "cells": [
  {
   "cell_type": "code",
   "execution_count": 54,
   "metadata": {},
   "outputs": [],
   "source": [
    "import pandas as pd\n",
    "import sqlalchemy as sa\n",
    "import numpy as np\n",
    "\n",
    "import bokeh.io as bio\n",
    "from bokeh.plotting import figure as bfig\n",
    "from bokeh.models import WMTSTileSource, ColumnDataSource, LinearColorMapper, HoverTool\n",
    "from bokeh.tile_providers import CARTODBPOSITRON"
   ]
  },
  {
   "cell_type": "markdown",
   "metadata": {},
   "source": [
    "# SAT 2012 data"
   ]
  },
  {
   "cell_type": "code",
   "execution_count": 45,
   "metadata": {},
   "outputs": [
    {
     "data": {
      "text/html": [
       "<div>\n",
       "<style scoped>\n",
       "    .dataframe tbody tr th:only-of-type {\n",
       "        vertical-align: middle;\n",
       "    }\n",
       "\n",
       "    .dataframe tbody tr th {\n",
       "        vertical-align: top;\n",
       "    }\n",
       "\n",
       "    .dataframe thead th {\n",
       "        text-align: right;\n",
       "    }\n",
       "</style>\n",
       "<table border=\"1\" class=\"dataframe\">\n",
       "  <thead>\n",
       "    <tr style=\"text-align: right;\">\n",
       "      <th></th>\n",
       "      <th>dbn</th>\n",
       "      <th>school_name</th>\n",
       "      <th>latitude</th>\n",
       "      <th>longitude</th>\n",
       "      <th>total_rm</th>\n",
       "    </tr>\n",
       "  </thead>\n",
       "  <tbody>\n",
       "    <tr>\n",
       "      <th>0</th>\n",
       "      <td>01m292</td>\n",
       "      <td>orchard collegiate academy</td>\n",
       "      <td>4.970201e+06</td>\n",
       "      <td>-8.236121e+06</td>\n",
       "      <td>759</td>\n",
       "    </tr>\n",
       "    <tr>\n",
       "      <th>1</th>\n",
       "      <td>01m448</td>\n",
       "      <td>university neighborhood high school</td>\n",
       "      <td>4.970013e+06</td>\n",
       "      <td>-8.235917e+06</td>\n",
       "      <td>806</td>\n",
       "    </tr>\n",
       "    <tr>\n",
       "      <th>2</th>\n",
       "      <td>01m450</td>\n",
       "      <td>east side community school</td>\n",
       "      <td>4.972538e+06</td>\n",
       "      <td>-8.235700e+06</td>\n",
       "      <td>779</td>\n",
       "    </tr>\n",
       "    <tr>\n",
       "      <th>3</th>\n",
       "      <td>01m458</td>\n",
       "      <td>forsyth satellite academy</td>\n",
       "      <td>4.971499e+06</td>\n",
       "      <td>-8.236610e+06</td>\n",
       "      <td>815</td>\n",
       "    </tr>\n",
       "    <tr>\n",
       "      <th>4</th>\n",
       "      <td>01m509</td>\n",
       "      <td>marta valle high school</td>\n",
       "      <td>4.971214e+06</td>\n",
       "      <td>-8.236044e+06</td>\n",
       "      <td>823</td>\n",
       "    </tr>\n",
       "  </tbody>\n",
       "</table>\n",
       "</div>"
      ],
      "text/plain": [
       "      dbn                          school_name      latitude     longitude  \\\n",
       "0  01m292           orchard collegiate academy  4.970201e+06 -8.236121e+06   \n",
       "1  01m448  university neighborhood high school  4.970013e+06 -8.235917e+06   \n",
       "2  01m450           east side community school  4.972538e+06 -8.235700e+06   \n",
       "3  01m458            forsyth satellite academy  4.971499e+06 -8.236610e+06   \n",
       "4  01m509              marta valle high school  4.971214e+06 -8.236044e+06   \n",
       "\n",
       "   total_rm  \n",
       "0       759  \n",
       "1       806  \n",
       "2       779  \n",
       "3       815  \n",
       "4       823  "
      ]
     },
     "execution_count": 45,
     "metadata": {},
     "output_type": "execute_result"
    }
   ],
   "source": [
    "###### set up SAT 2012 dataframe from databases\n",
    "engine = sa.create_engine('sqlite:///db/nycedudata.db')\n",
    "meta = sa.MetaData()\n",
    "\n",
    "SAT_2012_query = \"SELECT Schools.dbn, Schools.school_name, Schools.latitude, Schools.longitude, SAT2012.total_rm \\\n",
    "                  FROM Schools INNER JOIN (SELECT * FROM SAT WHERE school_year = 2012) AS SAT2012 \\\n",
    "                  ON SAT2012.dbn = Schools.dbn;\"\n",
    "\n",
    "sat2012_df = pd.read_sql_query(SAT_2012_query, engine)\n",
    "\n",
    "k = 6378137\n",
    "sat2012_df['latitude'] = sat2012_df['latitude'].apply( lambda x: np.log(np.tan((90+float(x)) * np.pi/360.0))*k )\n",
    "sat2012_df['longitude'] = sat2012_df['longitude'].apply( lambda x: float(x) * (k * np.pi/180) )\n",
    "sat2012_df['total_rm'] = sat2012_df['total_rm'].apply( lambda x: int(x) )\n",
    "\n",
    "# sat2012_df.head()\n"
   ]
  },
  {
   "cell_type": "code",
   "execution_count": 46,
   "metadata": {},
   "outputs": [
    {
     "name": "stdout",
     "output_type": "stream",
     "text": [
      "4942972.56041\n",
      "4995895.46943\n",
      "-8259029.22316\n",
      "-8207301.65364\n"
     ]
    }
   ],
   "source": [
    "padding = 10\n",
    "\n",
    "south = np.min(sat2012_df['latitude']) - padding\n",
    "print(south)\n",
    "north = np.max(sat2012_df['latitude']) + padding\n",
    "print(north)\n",
    "west = np.min(sat2012_df['longitude']) - padding\n",
    "print(west)\n",
    "east = np.max(sat2012_df['longitude']) + padding\n",
    "print(east)"
   ]
  },
  {
   "cell_type": "code",
   "execution_count": null,
   "metadata": {},
   "outputs": [],
   "source": []
  },
  {
   "cell_type": "code",
   "execution_count": 60,
   "metadata": {},
   "outputs": [
    {
     "name": "stderr",
     "output_type": "stream",
     "text": [
      "ERROR:bokeh.core.validation.check:E-1001 (BAD_COLUMN_NAME): Glyph refers to nonexistent column name: score, x, y [renderer: GlyphRenderer(id='03e2cfc3-9a43-46f6-8b71-6abad425c9ac', ...)]\n",
      "ERROR:bokeh.core.validation.check:E-1001 (BAD_COLUMN_NAME): Glyph refers to nonexistent column name: x, y [renderer: GlyphRenderer(id='87c81c01-8dc3-4df7-b591-a85df4924408', ...)]\n",
      "ERROR:bokeh.core.validation.check:E-1001 (BAD_COLUMN_NAME): Glyph refers to nonexistent column name: x, y [renderer: GlyphRenderer(id='c07bb362-d333-4f4e-9ffa-2cb0aa46907a', ...)]\n",
      "ERROR:bokeh.core.validation.check:E-1001 (BAD_COLUMN_NAME): Glyph refers to nonexistent column name: score, x, y [renderer: GlyphRenderer(id='e6279e28-dc32-4f8e-827c-9848b725bbb9', ...)]\n",
      "ERROR:bokeh.core.validation.check:E-1001 (BAD_COLUMN_NAME): Glyph refers to nonexistent column name: total_rm, x, y [renderer: GlyphRenderer(id='71e52f30-216f-444e-889b-d4b12a8d74d4', ...)]\n",
      "ERROR:bokeh.core.validation.check:E-1001 (BAD_COLUMN_NAME): Glyph refers to nonexistent column name: latitude, longitude, total_rm [renderer: GlyphRenderer(id='3a944cb1-c463-482c-8a06-bd3fdf7606e5', ...)]\n"
     ]
    }
   ],
   "source": [
    "p = bfig(tools='pan, wheel_zoom', x_range=(west,east), y_range=(south,north), \n",
    "           x_axis_type=\"mercator\", y_axis_type=\"mercator\")\n",
    "p.add_tile(CARTODBPOSITRON)\n",
    "\n",
    "data_source = ColumnDataSource(sat2012_df)\n",
    "color_map = LinearColorMapper(palette='Magma256', low=600, high=1200))\n",
    "\n",
    "p.circle(x='longitude', y='latitude', source=data_source,fill_color={'field':'total_rm', 'transform':color_map}, size=10)\n",
    "p.add_tools(HoverTool(tooltips=[('DBN','@dbn'),('Name','@school_name'),('Score','@total_rm')]))\n",
    "bio.show(p)"
   ]
  },
  {
   "cell_type": "markdown",
   "metadata": {},
   "source": [
    "# Regents Data"
   ]
  },
  {
   "cell_type": "code",
   "execution_count": null,
   "metadata": {},
   "outputs": [],
   "source": []
  }
 ],
 "metadata": {
  "kernelspec": {
   "display_name": "Python 3",
   "language": "python",
   "name": "python3"
  },
  "language_info": {
   "codemirror_mode": {
    "name": "ipython",
    "version": 3
   },
   "file_extension": ".py",
   "mimetype": "text/x-python",
   "name": "python",
   "nbconvert_exporter": "python",
   "pygments_lexer": "ipython3",
   "version": "3.6.5"
  }
 },
 "nbformat": 4,
 "nbformat_minor": 2
}
