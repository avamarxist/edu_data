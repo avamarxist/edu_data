{
 "cells": [
  {
   "cell_type": "code",
   "execution_count": null,
   "metadata": {},
   "outputs": [],
   "source": [
    "import pandas as pd\n",
    "import sqlalchemy as sa\n",
    "import numpy as np\n",
    "\n",
    "import bokeh.io as bio\n",
    "from bokeh.plotting import figure as bfig\n",
    "from bokeh.models import WMTSTileSource, ColumnDataSource, LinearColorMapper, HoverTool\n",
    "from bokeh.tile_providers import CARTODBPOSITRON"
   ]
  },
  {
   "cell_type": "markdown",
   "metadata": {},
   "source": [
    "### Generate Data"
   ]
  },
  {
   "cell_type": "code",
   "execution_count": null,
   "metadata": {},
   "outputs": [],
   "source": [
    "###### make dataframe from Regents Database\n",
    "\n",
    "engine = sa.create_engine('sqlite:///db/nycedudata.db')\n",
    "meta = sa.MetaData()\n",
    "\n",
    "regents_query = \"SELECT Schools.dbn, Schools.school_name, Schools.latitude, Schools.longitude, \\\n",
    "                    Regents.school_year, Regents.test_name, Demo_Categories.demo_var, Regents.test_num, \\\n",
    "                    Regents.mean_score, Regents.num_lt_65, Regents.num_gt_65, Regents.num_gt_80 \\\n",
    "                FROM Schools \\\n",
    "                    INNER JOIN Regents on Regents.dbn = Schools.dbn \\\n",
    "                    INNER JOIN Demo_Categories ON Demo_Categories.demo_cat_id = Regents.school_demo_id;\"\n",
    "\n",
    "regents_df = pd.read_sql_query(regents_query, engine)\n",
    "\n",
    "k = 6378137\n",
    "regents_df['latitude'] = regents_df['latitude'].apply( lambda x: np.log(np.tan((90+float(x)) * np.pi/360.0))*k )\n",
    "regents_df['longitude'] = regents_df['longitude'].apply( lambda x: float(x) * (k * np.pi/180) )\n",
    "regents_df['mean_score'] = regents_df['mean_score'].apply( lambda x: float(x) )\n",
    "\n",
    "int_cols = ['school_year','num_lt_65','test_num','num_gt_65','num_gt_80']\n",
    "regents_df[int_cols] = regents_df[int_cols].applymap( lambda x: int(x) )\n",
    "\n",
    "regents_df['pct_lt_65'] = regents_df['num_lt_65']/regents_df['test_num']*100\n",
    "regents_df['pct_gt_65'] = regents_df['num_gt_65']/regents_df['test_num']*100\n",
    "regents_df['pct_gt_80'] = regents_df['num_gt_80']/regents_df['test_num']*100\n",
    "\n",
    "# regents_df.head()"
   ]
  },
  {
   "cell_type": "markdown",
   "metadata": {},
   "source": [
    "### SET MAPPING PARAMETERS"
   ]
  },
  {
   "cell_type": "code",
   "execution_count": null,
   "metadata": {},
   "outputs": [],
   "source": [
    "###### Set search parameters\n",
    "test_stat = 'pct_gt_65'\n",
    "demo_var = 'black'\n",
    "test_name = 'common core algebra'\n",
    "school_year = 2016\n",
    "\n",
    "###### Set map parameters\n",
    "padding = 10\n",
    "\n",
    "south = np.min(regents_df['latitude']) - padding\n",
    "north = np.max(regents_df['latitude']) + padding\n",
    "west = np.min(regents_df['longitude']) - padding\n",
    "east = np.max(regents_df['longitude']) + padding\n",
    "\n",
    "spectrum_low = 0\n",
    "spectrum_high = 100"
   ]
  },
  {
   "cell_type": "code",
   "execution_count": null,
   "metadata": {},
   "outputs": [],
   "source": [
    "###### Refine dataframe based on search parameters\n",
    "\n",
    "source_df = regents_df[regents_df['school_year'] == school_year]\n",
    "source_df = source_df[source_df['demo_var'] == demo_var]\n",
    "source_df = source_df[source_df['test_name'] == test_name]\n",
    "\n",
    "source_df = source_df[['dbn','school_name','longitude','latitude',test_stat]]\n",
    "\n",
    "# source_df.head()\n",
    "\n",
    "data_source = ColumnDataSource(source_df)"
   ]
  },
  {
   "cell_type": "code",
   "execution_count": 6,
   "metadata": {},
   "outputs": [],
   "source": [
    "###### Create map of data\n",
    "\n",
    "p = bfig(tools='pan, wheel_zoom', x_range=(west,east), y_range=(south,north), \n",
    "           x_axis_type=\"mercator\", y_axis_type=\"mercator\")\n",
    "p.add_tile(CARTODBPOSITRON)\n",
    "\n",
    "color_map = LinearColorMapper(palette='Magma256', low=spectrum_low, high=spectrum_high)\n",
    "\n",
    "p.circle(x='longitude', y='latitude', source=data_source, fill_color={'field':test_stat, 'transform':color_map}, size=10)\n",
    "p.add_tools(HoverTool(tooltips=[('DBN','@dbn'),('Name','@school_name'),('Score','@{0}'.format(test_stat))]))\n",
    "bio.show(p)"
   ]
  },
  {
   "cell_type": "code",
   "execution_count": null,
   "metadata": {},
   "outputs": [],
   "source": []
  }
 ],
 "metadata": {
  "kernelspec": {
   "display_name": "Python 3",
   "language": "python",
   "name": "python3"
  },
  "language_info": {
   "codemirror_mode": {
    "name": "ipython",
    "version": 3
   },
   "file_extension": ".py",
   "mimetype": "text/x-python",
   "name": "python",
   "nbconvert_exporter": "python",
   "pygments_lexer": "ipython3",
   "version": "3.6.8"
  }
 },
 "nbformat": 4,
 "nbformat_minor": 2
}
