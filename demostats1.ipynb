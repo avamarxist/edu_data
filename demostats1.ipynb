{
 "cells": [
  {
   "cell_type": "markdown",
   "metadata": {},
   "source": [
    "## Set Up"
   ]
  },
  {
   "cell_type": "code",
   "execution_count": 1,
   "metadata": {
    "scrolled": true
   },
   "outputs": [],
   "source": [
    "# Set up imports\n",
    "import pandas as pd\n",
    "import numpy as np\n",
    "import scipy.stats as stats\n",
    "import sqlalchemy as sql\n",
    "import matplotlib.pyplot as plt"
   ]
  },
  {
   "cell_type": "code",
   "execution_count": 2,
   "metadata": {
    "scrolled": true
   },
   "outputs": [
    {
     "name": "stdout",
     "output_type": "stream",
     "text": [
      "{'grade 6', 'grade 7', 'grade pk', 'grade 2', 'grade 1', 'grade 12', 'grade 3', 'white', 'poverty', 'grade 8', 'grade 11', 'grade 4', 'ell', 'grade 5', 'swd', 'grade 9', 'grade k', 'grade 10', 'black', 'other race', 'omic need index', 'male', 'asian', 'female', 'hispanic'}\n"
     ]
    }
   ],
   "source": [
    "# Set up dataframe from SQLite database\n",
    "engine = sql.create_engine('sqlite:///db/nycedudata.db')\n",
    "\n",
    "query1 = \"SELECT * FROM Schools;\"\n",
    "schools_df = pd.read_sql_query(query1,engine)\n",
    "query2 = \"SELECT * FROM Demographics\"\n",
    "demo_raw = pd.read_sql_query(query2,engine)\n",
    "print(set(demo_raw['demo_var']))"
   ]
  },
  {
   "cell_type": "code",
   "execution_count": null,
   "metadata": {
    "scrolled": true
   },
   "outputs": [],
   "source": [
    "test_demo = 'white'\n",
    "school_demo = 'poverty'\n",
    "\n",
    "query_string = \"SELECT Regents.test_id, Demographics.demo_id, Regents.dbn, Regents.year, Regents.exam_name, \\\n",
    "Regents.demo_var AS test_demo, Regents.demo_cat as test_demo_cat, Demographics.demo_var as school_demo, \\\n",
    "Demographics.demo_cat as school_demo_cat, \\\n",
    "Regents.mean_score, Regents.pct_lt_65, Regents.pct_gt_65, Regents.pct_gt_80, \\\n",
    "Demographics.total_enrollment, Regents.test_num, \\\n",
    "Demographics.demo_num as school_demo_num, Demographics.demo_pct AS school_demo_pct \\\n",
    "FROM Regents JOIN Demographics USING (dbn, year) \\\n",
    ";\"               # WHERE Regents.demo_var = '{}' AND Demographics.demo_var = '{}'\n",
    "\n",
    "demo_df_whole = pd.read_sql_query(query_string, engine)\n",
    "demo_df = demo_df_whole[demo_df_whole['school_demo'] == school_demo]\n",
    "demo_df = demo_df[demo_df['test_demo'] == test_demo]\n",
    "demo_df = demo_df.drop(demo_df[demo_df['test_demo_cat'] == 'grade level'])"
   ]
  },
  {
   "cell_type": "code",
   "execution_count": null,
   "metadata": {
    "scrolled": true
   },
   "outputs": [],
   "source": [
    "print(demo_df_whole[155:165])"
   ]
  },
  {
   "cell_type": "markdown",
   "metadata": {},
   "source": [
    "## Analysis"
   ]
  },
  {
   "cell_type": "code",
   "execution_count": null,
   "metadata": {
    "scrolled": true
   },
   "outputs": [],
   "source": [
    "x_cat = 'school_demo_pct'\n",
    "y_cat = 'pct_gt_65'\n",
    "title = '{}: {} || {}:{}'.format(x_cat,school_demo,y_cat,test_demo)\n",
    "\n",
    "x_array = demo_df[x_cat]\n",
    "y_array = demo_df[y_cat]\n",
    "\n",
    "plt.scatter(demo_df[x_cat], demo_df[y_cat])\n",
    "plt.xlabel(x_cat)\n",
    "plt.ylabel(y_cat)\n",
    "plt.title(title)\n",
    "plt.show()"
   ]
  },
  {
   "cell_type": "markdown",
   "metadata": {},
   "source": [
    "### Notes on test_demo/school_demo scatter plots\n",
    "- Hispanic and black scatter plots (gt_65 & gt_80 for all students) have large empty areas in the top right (high hispanic or black %, high pass rate)\n",
    "    - Black plot is has empty area centered around 60% black students --> better performances in high % black schools vs. mid-level % black schools\n",
    "    - Hispanic plot is empty in upper corner (distinct \"line\" above which there are almost no schools)\n",
    "    - ___Intersting bands in the black plots?___\n",
    "- White "
   ]
  },
  {
   "cell_type": "code",
   "execution_count": 6,
   "metadata": {
    "scrolled": true
   },
   "outputs": [
    {
     "name": "stdout",
     "output_type": "stream",
     "text": [
      "m: -0.49090763645735563, b: 107.38285460309011 r: -0.3697771213189922 p: 3.469170410148725e-142 stderror: 0.01862929906294561\n"
     ]
    }
   ],
   "source": [
    "m, b, r, p, std_err = stats.linregress(x_array, y_array)\n",
    "print('m: {}, b: {} r: {} p: {} stderror: {}'.format(m,b,r,p,std_err))"
   ]
  },
  {
   "cell_type": "code",
   "execution_count": 7,
   "metadata": {
    "scrolled": false
   },
   "outputs": [
    {
     "data": {
      "image/png": "[encoded data removed]",
      "text/plain": [
       "<Figure size 432x288 with 1 Axes>"
      ]
     },
     "metadata": {
      "needs_background": "light"
     },
     "output_type": "display_data"
    },
    {
     "name": "stdout",
     "output_type": "stream",
     "text": [
      "       Min        Q1          Med        Q3        Max\n",
      "[ 6.41025641 50.80898358 69.16010499 77.17391304 98.06094183]\n"
     ]
    }
   ],
   "source": [
    "plt.figure()\n",
    "plt.hist(demo_df[x_cat],edgecolor='black')\n",
    "title = '{}: {}'.format(x_cat,school_demo)\n",
    "plt.title(title)\n",
    "plt.show()\n",
    "print('       Min        Q1          Med        Q3        Max')\n",
    "print(np.percentile(demo_df['school_demo_pct'],[0,25,50,75,100]))"
   ]
  },
  {
   "cell_type": "code",
   "execution_count": 8,
   "metadata": {},
   "outputs": [
    {
     "data": {
      "image/png": "[encoded data removed]",
      "text/plain": [
       "<Figure size 432x288 with 1 Axes>"
      ]
     },
     "metadata": {
      "needs_background": "light"
     },
     "output_type": "display_data"
    }
   ],
   "source": [
    "plt.boxplot(demo_df[x_cat])\n",
    "title = '{}: {}'.format(x_cat,school_demo)\n",
    "plt.title(title)\n",
    "plt.show()"
   ]
  },
  {
   "cell_type": "markdown",
   "metadata": {},
   "source": [
    "## Demographics notes\n",
    "- Poverty % graph is a beautiful left skewed example --> 78% MEDIAN!!!"
   ]
  },
  {
   "cell_type": "code",
   "execution_count": 9,
   "metadata": {
    "scrolled": true
   },
   "outputs": [
    {
     "data": {
      "text/html": [
       "<div>\n",
       "<style scoped>\n",
       "    .dataframe tbody tr th:only-of-type {\n",
       "        vertical-align: middle;\n",
       "    }\n",
       "\n",
       "    .dataframe tbody tr th {\n",
       "        vertical-align: top;\n",
       "    }\n",
       "\n",
       "    .dataframe thead th {\n",
       "        text-align: right;\n",
       "    }\n",
       "</style>\n",
       "<table border=\"1\" class=\"dataframe\">\n",
       "  <thead>\n",
       "    <tr style=\"text-align: right;\">\n",
       "      <th></th>\n",
       "      <th>pct_gt_65</th>\n",
       "      <th>school_demo_pct</th>\n",
       "    </tr>\n",
       "  </thead>\n",
       "  <tbody>\n",
       "    <tr>\n",
       "      <th>2733151</th>\n",
       "      <td>62.5</td>\n",
       "      <td>98.060942</td>\n",
       "    </tr>\n",
       "    <tr>\n",
       "      <th>2731651</th>\n",
       "      <td>63.6</td>\n",
       "      <td>98.060942</td>\n",
       "    </tr>\n",
       "    <tr>\n",
       "      <th>2731401</th>\n",
       "      <td>76.2</td>\n",
       "      <td>98.060942</td>\n",
       "    </tr>\n",
       "    <tr>\n",
       "      <th>2732926</th>\n",
       "      <td>71.4</td>\n",
       "      <td>98.060942</td>\n",
       "    </tr>\n",
       "    <tr>\n",
       "      <th>2732076</th>\n",
       "      <td>33.3</td>\n",
       "      <td>98.060942</td>\n",
       "    </tr>\n",
       "  </tbody>\n",
       "</table>\n",
       "</div>"
      ],
      "text/plain": [
       "         pct_gt_65  school_demo_pct\n",
       "2733151       62.5        98.060942\n",
       "2731651       63.6        98.060942\n",
       "2731401       76.2        98.060942\n",
       "2732926       71.4        98.060942\n",
       "2732076       33.3        98.060942"
      ]
     },
     "execution_count": 9,
     "metadata": {},
     "output_type": "execute_result"
    }
   ],
   "source": [
    "sub_df = demo_df[['pct_gt_65', 'school_demo_pct']]\n",
    "sub_df = sub_df.sort_values('school_demo_pct')\n",
    "sub_df.tail()"
   ]
  },
  {
   "cell_type": "code",
   "execution_count": 10,
   "metadata": {
    "scrolled": false
   },
   "outputs": [
    {
     "data": {
      "image/png": "[encoded data removed]",
      "text/plain": [
       "<Figure size 432x288 with 1 Axes>"
      ]
     },
     "metadata": {
      "needs_background": "light"
     },
     "output_type": "display_data"
    }
   ],
   "source": [
    "plt.plot(range(1,len(sub_df)+1),sub_df['school_demo_pct'])\n",
    "plt.show()"
   ]
  },
  {
   "cell_type": "code",
   "execution_count": 11,
   "metadata": {},
   "outputs": [
    {
     "name": "stdout",
     "output_type": "stream",
     "text": [
      "{'ell status', 'gender', 'ethnicity', 'swd status', 'all students'}\n"
     ]
    }
   ],
   "source": [
    "#see demo categories\n",
    "print(set(demo_df_whole['test_demo_cat']))"
   ]
  },
  {
   "cell_type": "code",
   "execution_count": 12,
   "metadata": {
    "scrolled": true
   },
   "outputs": [
    {
     "ename": "NameError",
     "evalue": "name 'demo_df_all' is not defined",
     "output_type": "error",
     "traceback": [
      "\u001b[0;31m---------------------------------------------------------------------------\u001b[0m",
      "\u001b[0;31mNameError\u001b[0m                                 Traceback (most recent call last)",
      "\u001b[0;32m<ipython-input-12-6439528801c9>\u001b[0m in \u001b[0;36m<module>\u001b[0;34m\u001b[0m\n\u001b[1;32m      1\u001b[0m \u001b[0mtemp_df\u001b[0m \u001b[0;34m=\u001b[0m \u001b[0;34m{\u001b[0m\u001b[0;34m}\u001b[0m\u001b[0;34m\u001b[0m\u001b[0;34m\u001b[0m\u001b[0m\n\u001b[1;32m      2\u001b[0m \u001b[0;34m\u001b[0m\u001b[0m\n\u001b[0;32m----> 3\u001b[0;31m \u001b[0;32mfor\u001b[0m \u001b[0md\u001b[0m \u001b[0;32min\u001b[0m \u001b[0mset\u001b[0m\u001b[0;34m(\u001b[0m\u001b[0mdemo_df_all\u001b[0m\u001b[0;34m[\u001b[0m\u001b[0mdemo_df_all\u001b[0m\u001b[0;34m[\u001b[0m\u001b[0;34m'test_demo_cat'\u001b[0m\u001b[0;34m]\u001b[0m \u001b[0;34m==\u001b[0m \u001b[0;34m'ethnicity'\u001b[0m\u001b[0;34m]\u001b[0m\u001b[0;34m[\u001b[0m\u001b[0;34m'test_demo'\u001b[0m\u001b[0;34m]\u001b[0m\u001b[0;34m)\u001b[0m\u001b[0;34m:\u001b[0m\u001b[0;34m\u001b[0m\u001b[0;34m\u001b[0m\u001b[0m\n\u001b[0m\u001b[1;32m      4\u001b[0m     \u001b[0mtemp_df\u001b[0m\u001b[0;34m[\u001b[0m\u001b[0md\u001b[0m\u001b[0;34m]\u001b[0m \u001b[0;34m=\u001b[0m \u001b[0mlist\u001b[0m\u001b[0;34m(\u001b[0m\u001b[0mdemo_df_all\u001b[0m\u001b[0;34m[\u001b[0m\u001b[0mdemo_df_all\u001b[0m\u001b[0;34m[\u001b[0m\u001b[0;34m'test_demo'\u001b[0m\u001b[0;34m]\u001b[0m \u001b[0;34m==\u001b[0m \u001b[0md\u001b[0m\u001b[0;34m]\u001b[0m\u001b[0;34m[\u001b[0m\u001b[0my_cat\u001b[0m\u001b[0;34m]\u001b[0m\u001b[0;34m)\u001b[0m\u001b[0;34m\u001b[0m\u001b[0;34m\u001b[0m\u001b[0m\n\u001b[1;32m      5\u001b[0m \u001b[0mplt\u001b[0m\u001b[0;34m.\u001b[0m\u001b[0mboxplot\u001b[0m\u001b[0;34m(\u001b[0m\u001b[0mtemp_df\u001b[0m\u001b[0;34m.\u001b[0m\u001b[0mvalues\u001b[0m\u001b[0;34m(\u001b[0m\u001b[0;34m)\u001b[0m\u001b[0;34m,\u001b[0m\u001b[0mlabels\u001b[0m\u001b[0;34m=\u001b[0m\u001b[0mtemp_df\u001b[0m\u001b[0;34m.\u001b[0m\u001b[0mkeys\u001b[0m\u001b[0;34m(\u001b[0m\u001b[0;34m)\u001b[0m\u001b[0;34m)\u001b[0m\u001b[0;34m\u001b[0m\u001b[0;34m\u001b[0m\u001b[0m\n",
      "\u001b[0;31mNameError\u001b[0m: name 'demo_df_all' is not defined"
     ]
    }
   ],
   "source": [
    "temp_df = {}\n",
    "\n",
    "for d in set(demo_df_all[demo_df_all['test_demo_cat'] == 'ethnicity']['test_demo']):\n",
    "    temp_df[d] = list(demo_df_all[demo_df_all['test_demo'] == d][y_cat])\n",
    "plt.boxplot(temp_df.values(),labels=temp_df.keys())\n",
    "plt.ylabel(y_cat)\n",
    "plt.xticks(rotation=90)\n",
    "plt.show()\n"
   ]
  },
  {
   "cell_type": "code",
   "execution_count": null,
   "metadata": {},
   "outputs": [],
   "source": [
    "temp_df.keys()"
   ]
  },
  {
   "cell_type": "code",
   "execution_count": null,
   "metadata": {},
   "outputs": [],
   "source": [
    "demo_df_whole.loc[demo_df_whole['school_demo'] == 'black'][y_cat].head()"
   ]
  },
  {
   "cell_type": "code",
   "execution_count": null,
   "metadata": {},
   "outputs": [],
   "source": []
  }
 ],
 "metadata": {
  "kernelspec": {
   "display_name": "Python 3",
   "language": "python",
   "name": "python3"
  },
  "language_info": {
   "codemirror_mode": {
    "name": "ipython",
    "version": 3
   },
   "file_extension": ".py",
   "mimetype": "text/x-python",
   "name": "python",
   "nbconvert_exporter": "python",
   "pygments_lexer": "ipython3",
   "version": "3.6.7"
  }
 },
 "nbformat": 4,
 "nbformat_minor": 2
}
