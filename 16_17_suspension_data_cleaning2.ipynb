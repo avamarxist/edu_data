{
 "cells": [
  {
   "cell_type": "code",
   "execution_count": 1,
   "metadata": {},
   "outputs": [],
   "source": [
    "# Set up imports\n",
    "import pandas as pd\n",
    "import numpy as np\n",
    "import scipy.stats as stats\n",
    "import sqlalchemy as sql\n",
    "import matplotlib.pyplot as plt\n",
    "import sqlalchemy.dialects.sqlite as sqlite"
   ]
  },
  {
   "cell_type": "code",
   "execution_count": 2,
   "metadata": {},
   "outputs": [],
   "source": [
    "categories_dict = {'GENDER': ['gender', 'demographic'], \\\n",
    "                   'ELL': ['language', 'demographic'], \\\n",
    "                   'D_CODE': ['d-code', 'discipline'], \\\n",
    "                   'IEP': ['disability', 'demographic'], \\\n",
    "                   'LENGTH_IN_DAYS': ['removal time', 'discipline'], \\\n",
    "                   'RACE': ['race', 'demographic'], \\\n",
    "                   'Students_In_Temporary_Housing': ['housing', 'demographic'] \\\n",
    "                  }\n",
    "\n",
    "discipline_dict = {'removals':'r', \\\n",
    "                   'r': 'r', \\\n",
    "                   'principal':'p', \\\n",
    "                   'p': 'p', \\\n",
    "                   'superintendent': 's', \\\n",
    "                   's': 's', \\\n",
    "                   'expulsions':'e', \\\n",
    "                   'e': 'e', \\\n",
    "                   'removals/suspensions':'all'}\n",
    "\n",
    "\n",
    "\n",
    "def general_clean(file, category, df):\n",
    "    rawdf = pd.read_csv('res/2016-2017_Student_Discipline_Annual_Report_-_' + file + '.csv')\n",
    "    rawdf.columns = rawdf.columns.map(lambda x: x.lower())\n",
    "    \n",
    "    rawdf.drop(['location name', 'location category', 'administrative district'], axis=1, inplace=True)\n",
    "    if 'sy1617 total removals/suspensions' in rawdf.columns:\n",
    "        rawdf.drop(['sy1617 total removals/suspensions'], axis=1, inplace=True)\n",
    " \n",
    "\n",
    "    normdf = pd.melt(rawdf, id_vars=['dbn'])\n",
    "    \n",
    "    normdf.rename(columns={'value':'number'}, inplace=True)\n",
    "    \n",
    "    normdf['variable'] = normdf['variable'].map(lambda x: x.split(' '))\n",
    "    \n",
    "    normdf['discipline_type'] = [v[-1] for v in normdf['variable']] \n",
    "    normdf['discipline_type'] = normdf['discipline_type'].map(discipline_dict)\n",
    "    \n",
    "    if file == 'D_CODE':\n",
    "        normdf['var_name'] = [v[0] for v in normdf['variable']]\n",
    "    else:\n",
    "        normdf['var_name'] = [' '.join(v[:-1]) for v in normdf['variable']]\n",
    "    \n",
    "    \n",
    "    \n",
    "    normdf.drop('variable', axis=1, inplace=True)\n",
    "    \n",
    "    normdf['var_category'] = [category[0] for i in normdf.index]\n",
    "    normdf['var_type'] = [category[1] for i in normdf.index]\n",
    "    \n",
    "    return df.append(normdf, ignore_index=True)"
   ]
  },
  {
   "cell_type": "code",
   "execution_count": null,
   "metadata": {},
   "outputs": [],
   "source": [
    "#### Start with RPS Total so yearly total columns can be dropped from other tables\n",
    "\n",
    "total_raw = pd.read_csv('res/2016-2017_Student_Discipline_Annual_Report_-_RPS_TOTALS.csv')\n",
    "\n",
    "total_raw.columns = total_raw.columns.map(lambda x: x.lower())\n",
    "total_raw.drop(columns=['location name', 'location category', 'administrative district'], axis=1, inplace=True)\n",
    "\n",
    "suspensionsdf = pd.melt(total_raw, id_vars=['dbn'])\n",
    "\n",
    "suspensionsdf.rename(columns={'variable':'var_name','value':'number'}, inplace=True)\n",
    "\n",
    "suspensionsdf['var_name'] = suspensionsdf['var_name'].map(lambda x: 'total discipline' if x == 'sy1617 total removals/suspensions' else x)\n",
    "\n",
    "discipline_dict_2 = {'removals':'r', 'principal':'p', 'superintendent': 's', 'expulsions':'e', 'total discipline':'all discipline types'}\n",
    "suspensionsdf['discipline_type'] = suspensionsdf['var_name'].map(discipline_dict_2)\n",
    "\n",
    "suspensionsdf['var_category'] = ['discipline type' for v in suspensionsdf['var_name']]\n",
    "suspensionsdf['var_type'] = ['discipline' for v in suspensionsdf['var_name']]\n",
    "\n",
    "suspensionsdf = suspensionsdf[['dbn', 'number', 'discipline_type', 'var_name', 'var_category', 'var_type']]\n",
    "\n",
    "suspensionsdf.head()"
   ]
  },
  {
   "cell_type": "code",
   "execution_count": null,
   "metadata": {},
   "outputs": [],
   "source": [
    "for file, category in categories_dict.items():\n",
    "    suspensionsdf = general_clean(file, category, suspensionsdf)\n",
    "    print(file)\n",
    "\n",
    "print(len(suspensionsdf))"
   ]
  },
  {
   "cell_type": "code",
   "execution_count": null,
   "metadata": {},
   "outputs": [],
   "source": [
    "suspensionsdf['year'] = [2016 for r in suspensionsdf.index]\n",
    "\n",
    "suspensionsdf['number'] = suspensionsdf['number'].map(lambda x: np.nan if x == 'R' else np.int64(x))\n",
    "suspensionsdf['var_name'] = suspensionsdf['var_name'].map(lambda x: 'non-swd' if x=='gen ed' else x)\n",
    "suspensionsdf['removal_id'] = [i for i in suspensionsdf.index]\n",
    "\n",
    "suspensionsdf = suspensionsdf[['removal_id', 'dbn', 'year', 'number', 'discipline_type', 'var_name', 'var_category', 'var_type']]\n",
    "\n",
    "suspensionsdf.head()"
   ]
  },
  {
   "cell_type": "code",
   "execution_count": null,
   "metadata": {},
   "outputs": [],
   "source": [
    "conn = sql.create_engine('sqlite:///db/nycedudata.db')\n",
    "meta = sql.MetaData()\n",
    "\n",
    "schools_table = sql.Table('Schools',meta,autoload=True,autoload_with=conn)\n",
    "\n",
    "conn.execute('DROP TABLE IF EXISTS Removals;')\n",
    "\n",
    "suspensions_table = sql.Table('Removals', meta,\\\n",
    "                sql.Column('removal_id', sqlite.INTEGER, primary_key=True),\\\n",
    "                sql.Column('dbn', sqlite.TEXT,sql.ForeignKey('Schools.dbn',onupdate='CASCADE',ondelete='SET NULL')),\\\n",
    "                sql.Column('year', sqlite.INTEGER),\\\n",
    "                sql.Column('number', sqlite.INTEGER),\\\n",
    "                sql.Column('discipline_type', sqlite.TEXT),\\\n",
    "                sql.Column('var_name', sqlite.TEXT),\\\n",
    "                sql.Column('var_category',sqlite.TEXT),\\\n",
    "                sql.Column('var_type',sqlite.TEXT),\\\n",
    "                sqlite_autoincrement=True)\n",
    "\n",
    "suspensions_table.create(conn)\n"
   ]
  },
  {
   "cell_type": "code",
   "execution_count": null,
   "metadata": {},
   "outputs": [],
   "source": [
    "values = suspensionsdf.to_dict(orient='records')\n",
    "\n",
    "print(values[0])"
   ]
  },
  {
   "cell_type": "code",
   "execution_count": null,
   "metadata": {},
   "outputs": [],
   "source": [
    "conn.execute(suspensions_table.insert(),values)"
   ]
  },
  {
   "cell_type": "code",
   "execution_count": null,
   "metadata": {},
   "outputs": [],
   "source": [
    "print(conn.execute('SELECT * FROM Removals LIMIT 5;').fetchall())"
   ]
  },
  {
   "cell_type": "code",
   "execution_count": null,
   "metadata": {},
   "outputs": [],
   "source": []
  }
 ],
 "metadata": {
  "kernelspec": {
   "display_name": "Python 3",
   "language": "python",
   "name": "python3"
  },
  "language_info": {
   "codemirror_mode": {
    "name": "ipython",
    "version": 3
   },
   "file_extension": ".py",
   "mimetype": "text/x-python",
   "name": "python",
   "nbconvert_exporter": "python",
   "pygments_lexer": "ipython3",
   "version": "3.6.5"
  }
 },
 "nbformat": 4,
 "nbformat_minor": 2
}
