{
 "cells": [
  {
   "cell_type": "code",
   "execution_count": 1,
   "metadata": {},
   "outputs": [],
   "source": [
    "# Set up imports\n",
    "import pandas as pd\n",
    "import numpy as np\n",
    "import scipy.stats as stats\n",
    "import sqlalchemy as sql\n",
    "import matplotlib.pyplot as plt\n",
    "import sqlalchemy.dialects.sqlite as sqlite"
   ]
  },
  {
   "cell_type": "code",
   "execution_count": 2,
   "metadata": {},
   "outputs": [],
   "source": [
    "categories_dict = {'GENDER': ['gender', 'demographic'], \\\n",
    "                   'ELL': ['language', 'demographic'], \\\n",
    "                   'D_CODE': ['d-code', 'discipline'], \\\n",
    "                   'IEP': ['disability', 'demographic'], \\\n",
    "                   'LENGTH_IN_DAYS': ['removal time', 'discipline'], \\\n",
    "                   'RACE': ['race', 'demographic'], \\\n",
    "                   'Students_In_Temporary_Housing': ['housing', 'demographic'] \\\n",
    "                  }\n",
    "\n",
    "discipline_dict = {'removals':'r', \\\n",
    "                   'r': 'r', \\\n",
    "                   'principal':'p', \\\n",
    "                   'p': 'p', \\\n",
    "                   'superintendent': 's', \\\n",
    "                   's': 's', \\\n",
    "                   'expulsions':'e', \\\n",
    "                   'e': 'e', \\\n",
    "                   'removals/suspensions':'all'}\n",
    "\n",
    "\n",
    "\n",
    "def general_clean(file, category, df):\n",
    "    rawdf = pd.read_csv('res/2016-2017_Student_Discipline_Annual_Report_-_' + file + '.csv')\n",
    "    rawdf.columns = rawdf.columns.map(lambda x: x.lower())\n",
    "    \n",
    "    rawdf.drop(['location name', 'location category', 'administrative district'], axis=1, inplace=True)\n",
    "    if 'sy1617 total removals/suspensions' in rawdf.columns:\n",
    "        rawdf.drop(['sy1617 total removals/suspensions'], axis=1, inplace=True)\n",
    " \n",
    "\n",
    "    normdf = pd.melt(rawdf, id_vars=['dbn'])\n",
    "    \n",
    "    normdf.rename(columns={'value':'number'}, inplace=True)\n",
    "    \n",
    "    normdf['variable'] = normdf['variable'].map(lambda x: x.split(' '))\n",
    "    \n",
    "    normdf['discipline_type'] = [v[-1] for v in normdf['variable']] \n",
    "    normdf['discipline_type'] = normdf['discipline_type'].map(discipline_dict)\n",
    "    \n",
    "    if file == 'D_CODE':\n",
    "        normdf['var_name'] = [v[0] for v in normdf['variable']]\n",
    "    else:\n",
    "        normdf['var_name'] = [' '.join(v[:-1]) for v in normdf['variable']]\n",
    "    \n",
    "    \n",
    "    \n",
    "    normdf.drop('variable', axis=1, inplace=True)\n",
    "    \n",
    "    normdf['var_cat'] = [category[0] for i in normdf.index]\n",
    "    normdf['var_type'] = [category[1] for i in normdf.index]\n",
    "    \n",
    "    return df.append(normdf, ignore_index=True)"
   ]
  },
  {
   "cell_type": "code",
   "execution_count": 3,
   "metadata": {},
   "outputs": [
    {
     "data": {
      "text/html": [
       "<div>\n",
       "<style scoped>\n",
       "    .dataframe tbody tr th:only-of-type {\n",
       "        vertical-align: middle;\n",
       "    }\n",
       "\n",
       "    .dataframe tbody tr th {\n",
       "        vertical-align: top;\n",
       "    }\n",
       "\n",
       "    .dataframe thead th {\n",
       "        text-align: right;\n",
       "    }\n",
       "</style>\n",
       "<table border=\"1\" class=\"dataframe\">\n",
       "  <thead>\n",
       "    <tr style=\"text-align: right;\">\n",
       "      <th></th>\n",
       "      <th>dbn</th>\n",
       "      <th>number</th>\n",
       "      <th>discipline_type</th>\n",
       "      <th>var_name</th>\n",
       "      <th>var_cat</th>\n",
       "      <th>var_type</th>\n",
       "    </tr>\n",
       "  </thead>\n",
       "  <tbody>\n",
       "    <tr>\n",
       "      <th>0</th>\n",
       "      <td>01M015</td>\n",
       "      <td>0</td>\n",
       "      <td>r</td>\n",
       "      <td>removals</td>\n",
       "      <td>discipline type</td>\n",
       "      <td>discipline</td>\n",
       "    </tr>\n",
       "    <tr>\n",
       "      <th>1</th>\n",
       "      <td>01M019</td>\n",
       "      <td>0</td>\n",
       "      <td>r</td>\n",
       "      <td>removals</td>\n",
       "      <td>discipline type</td>\n",
       "      <td>discipline</td>\n",
       "    </tr>\n",
       "    <tr>\n",
       "      <th>2</th>\n",
       "      <td>01M020</td>\n",
       "      <td>R</td>\n",
       "      <td>r</td>\n",
       "      <td>removals</td>\n",
       "      <td>discipline type</td>\n",
       "      <td>discipline</td>\n",
       "    </tr>\n",
       "    <tr>\n",
       "      <th>3</th>\n",
       "      <td>01M034</td>\n",
       "      <td>R</td>\n",
       "      <td>r</td>\n",
       "      <td>removals</td>\n",
       "      <td>discipline type</td>\n",
       "      <td>discipline</td>\n",
       "    </tr>\n",
       "    <tr>\n",
       "      <th>4</th>\n",
       "      <td>01M063</td>\n",
       "      <td>23</td>\n",
       "      <td>r</td>\n",
       "      <td>removals</td>\n",
       "      <td>discipline type</td>\n",
       "      <td>discipline</td>\n",
       "    </tr>\n",
       "  </tbody>\n",
       "</table>\n",
       "</div>"
      ],
      "text/plain": [
       "      dbn number discipline_type  var_name          var_cat    var_type\n",
       "0  01M015      0               r  removals  discipline type  discipline\n",
       "1  01M019      0               r  removals  discipline type  discipline\n",
       "2  01M020      R               r  removals  discipline type  discipline\n",
       "3  01M034      R               r  removals  discipline type  discipline\n",
       "4  01M063     23               r  removals  discipline type  discipline"
      ]
     },
     "execution_count": 3,
     "metadata": {},
     "output_type": "execute_result"
    }
   ],
   "source": [
    "#### Start with RPS Total so yearly total columns can be dropped from other tables\n",
    "\n",
    "total_raw = pd.read_csv('res/2016-2017_Student_Discipline_Annual_Report_-_RPS_TOTALS.csv')\n",
    "\n",
    "total_raw.columns = total_raw.columns.map(lambda x: x.lower())\n",
    "total_raw.drop(columns=['location name', 'location category', 'administrative district'], axis=1, inplace=True)\n",
    "\n",
    "suspensionsdf = pd.melt(total_raw, id_vars=['dbn'])\n",
    "\n",
    "suspensionsdf.rename(columns={'variable':'var_name','value':'number'}, inplace=True)\n",
    "\n",
    "suspensionsdf['var_name'] = suspensionsdf['var_name'].map(lambda x: 'total discipline' if x == 'sy1617 total removals/suspensions' else x)\n",
    "\n",
    "discipline_dict_2 = {'removals':'r', 'principal':'p', 'superintendent': 's', 'expulsions':'e', 'total discipline':'all discipline types'}\n",
    "suspensionsdf['discipline_type'] = suspensionsdf['var_name'].map(discipline_dict_2)\n",
    "\n",
    "suspensionsdf['var_cat'] = ['discipline type' for v in suspensionsdf['var_name']]\n",
    "suspensionsdf['var_type'] = ['discipline' for v in suspensionsdf['var_name']]\n",
    "\n",
    "suspensionsdf = suspensionsdf[['dbn', 'number', 'discipline_type', 'var_name', 'var_cat', 'var_type']]\n",
    "\n",
    "suspensionsdf.head()"
   ]
  },
  {
   "cell_type": "code",
   "execution_count": 4,
   "metadata": {},
   "outputs": [
    {
     "name": "stdout",
     "output_type": "stream",
     "text": [
      "GENDER\n",
      "ELL\n",
      "D_CODE\n",
      "IEP\n",
      "LENGTH_IN_DAYS\n",
      "RACE\n",
      "Students_In_Temporary_Housing\n",
      "526140\n"
     ]
    }
   ],
   "source": [
    "for file, category in categories_dict.items():\n",
    "    suspensionsdf = general_clean(file, category, suspensionsdf)\n",
    "    print(file)\n",
    "\n",
    "print(len(suspensionsdf))"
   ]
  },
  {
   "cell_type": "code",
   "execution_count": 5,
   "metadata": {},
   "outputs": [
    {
     "data": {
      "text/html": [
       "<div>\n",
       "<style scoped>\n",
       "    .dataframe tbody tr th:only-of-type {\n",
       "        vertical-align: middle;\n",
       "    }\n",
       "\n",
       "    .dataframe tbody tr th {\n",
       "        vertical-align: top;\n",
       "    }\n",
       "\n",
       "    .dataframe thead th {\n",
       "        text-align: right;\n",
       "    }\n",
       "</style>\n",
       "<table border=\"1\" class=\"dataframe\">\n",
       "  <thead>\n",
       "    <tr style=\"text-align: right;\">\n",
       "      <th></th>\n",
       "      <th>removal_id</th>\n",
       "      <th>dbn</th>\n",
       "      <th>year</th>\n",
       "      <th>number</th>\n",
       "      <th>discipline_type</th>\n",
       "      <th>var_name</th>\n",
       "      <th>var_cat</th>\n",
       "      <th>var_type</th>\n",
       "    </tr>\n",
       "  </thead>\n",
       "  <tbody>\n",
       "    <tr>\n",
       "      <th>0</th>\n",
       "      <td>0</td>\n",
       "      <td>01M015</td>\n",
       "      <td>2016</td>\n",
       "      <td>0.0</td>\n",
       "      <td>r</td>\n",
       "      <td>removals</td>\n",
       "      <td>discipline type</td>\n",
       "      <td>discipline</td>\n",
       "    </tr>\n",
       "    <tr>\n",
       "      <th>1</th>\n",
       "      <td>1</td>\n",
       "      <td>01M019</td>\n",
       "      <td>2016</td>\n",
       "      <td>0.0</td>\n",
       "      <td>r</td>\n",
       "      <td>removals</td>\n",
       "      <td>discipline type</td>\n",
       "      <td>discipline</td>\n",
       "    </tr>\n",
       "    <tr>\n",
       "      <th>2</th>\n",
       "      <td>2</td>\n",
       "      <td>01M020</td>\n",
       "      <td>2016</td>\n",
       "      <td>NaN</td>\n",
       "      <td>r</td>\n",
       "      <td>removals</td>\n",
       "      <td>discipline type</td>\n",
       "      <td>discipline</td>\n",
       "    </tr>\n",
       "    <tr>\n",
       "      <th>3</th>\n",
       "      <td>3</td>\n",
       "      <td>01M034</td>\n",
       "      <td>2016</td>\n",
       "      <td>NaN</td>\n",
       "      <td>r</td>\n",
       "      <td>removals</td>\n",
       "      <td>discipline type</td>\n",
       "      <td>discipline</td>\n",
       "    </tr>\n",
       "    <tr>\n",
       "      <th>4</th>\n",
       "      <td>4</td>\n",
       "      <td>01M063</td>\n",
       "      <td>2016</td>\n",
       "      <td>23.0</td>\n",
       "      <td>r</td>\n",
       "      <td>removals</td>\n",
       "      <td>discipline type</td>\n",
       "      <td>discipline</td>\n",
       "    </tr>\n",
       "  </tbody>\n",
       "</table>\n",
       "</div>"
      ],
      "text/plain": [
       "   removal_id     dbn  year  number discipline_type  var_name  \\\n",
       "0           0  01M015  2016     0.0               r  removals   \n",
       "1           1  01M019  2016     0.0               r  removals   \n",
       "2           2  01M020  2016     NaN               r  removals   \n",
       "3           3  01M034  2016     NaN               r  removals   \n",
       "4           4  01M063  2016    23.0               r  removals   \n",
       "\n",
       "           var_cat    var_type  \n",
       "0  discipline type  discipline  \n",
       "1  discipline type  discipline  \n",
       "2  discipline type  discipline  \n",
       "3  discipline type  discipline  \n",
       "4  discipline type  discipline  "
      ]
     },
     "execution_count": 5,
     "metadata": {},
     "output_type": "execute_result"
    }
   ],
   "source": [
    "suspensionsdf['year'] = [2016 for r in suspensionsdf.index]\n",
    "\n",
    "suspensionsdf['number'] = suspensionsdf['number'].map(lambda x: np.nan if x == 'R' else np.int64(x))\n",
    "suspensionsdf['var_name'] = suspensionsdf['var_name'].map(lambda x: 'non-swd' if x=='gen ed' else x)\n",
    "suspensionsdf['removal_id'] = [i for i in suspensionsdf.index]\n",
    "\n",
    "suspensionsdf = suspensionsdf[['removal_id', 'dbn', 'year', 'number', 'discipline_type', 'var_name', 'var_cat', 'var_type']]\n",
    "\n",
    "suspensionsdf.head()"
   ]
  },
  {
   "cell_type": "code",
   "execution_count": 6,
   "metadata": {},
   "outputs": [
    {
     "name": "stdout",
     "output_type": "stream",
     "text": [
      "(20, 20, '01M448', 2016, 0.0, 'r', 'removals', 'discipline type', 'discipline')\n"
     ]
    }
   ],
   "source": [
    "# suspensionsdf.loc[suspensionsdf['dbn'] == '05M285'].loc[suspensionsdf['var_cat']=='disability']\n",
    "# print(set(zip(suspensionsdf['var_name'], suspensionsdf['var_cat'], suspensionsdf['var_type'])))\n",
    "tup = (20,) + tuple(suspensionsdf.loc[20])\n",
    "print(tup)"
   ]
  },
  {
   "cell_type": "code",
   "execution_count": 7,
   "metadata": {},
   "outputs": [],
   "source": [
    "conn = sql.create_engine('sqlite:///db/nycedudata.db')\n",
    "meta = sql.MetaData()\n",
    "\n",
    "schools_table = sql.Table('Schools',meta,autoload=True,autoload_with=conn)\n",
    "\n",
    "conn.execute('DROP TABLE IF EXISTS Removals;')\n",
    "\n",
    "suspensions_table = sql.Table('Removals', meta,\\\n",
    "                sql.Column('removal_id', sqlite.INTEGER, primary_key=True),\\\n",
    "                sql.Column('dbn', sqlite.TEXT,sql.ForeignKey('Schools.dbn',onupdate='CASCADE',ondelete='SET NULL')),\\\n",
    "                sql.Column('number', sqlite.INTEGER),\\\n",
    "                sql.Column('var_name', sqlite.TEXT),\\\n",
    "                sql.Column('var_cat',sqlite.TEXT),\\\n",
    "                sql.Column('var_type',sqlite.TEXT),\\\n",
    "                sqlite_autoincrement=True)\n",
    "\n",
    "suspensions_table.create(conn)\n"
   ]
  },
  {
   "cell_type": "code",
   "execution_count": 8,
   "metadata": {},
   "outputs": [
    {
     "name": "stdout",
     "output_type": "stream",
     "text": [
      "{'removal_id': 0, 'dbn': '01M015', 'year': 2016, 'number': 0.0, 'discipline_type': 'r', 'var_name': 'removals', 'var_cat': 'discipline type', 'var_type': 'discipline'}\n"
     ]
    }
   ],
   "source": [
    "values = suspensionsdf.to_dict(orient='records')\n",
    "\n",
    "print(values[0])"
   ]
  },
  {
   "cell_type": "code",
   "execution_count": 9,
   "metadata": {},
   "outputs": [
    {
     "data": {
      "text/plain": [
       "<sqlalchemy.engine.result.ResultProxy at 0x7f6ddd6f59e8>"
      ]
     },
     "execution_count": 9,
     "metadata": {},
     "output_type": "execute_result"
    }
   ],
   "source": [
    "conn.execute(suspensions_table.insert(),values)"
   ]
  },
  {
   "cell_type": "code",
   "execution_count": 10,
   "metadata": {},
   "outputs": [
    {
     "name": "stdout",
     "output_type": "stream",
     "text": [
      "[(0, '01M015', 0, 'removals', 'discipline type', 'discipline', None, None, None), (1, '01M019', 0, 'removals', 'discipline type', 'discipline', None, None, None), (2, '01M020', None, 'removals', 'discipline type', 'discipline', None, None, None), (3, '01M034', None, 'removals', 'discipline type', 'discipline', None, None, None), (4, '01M063', 23, 'removals', 'discipline type', 'discipline', None, None, None)]\n"
     ]
    }
   ],
   "source": [
    "print(conn.execute('SELECT * FROM Removals LIMIT 5;').fetchall())"
   ]
  },
  {
   "cell_type": "code",
   "execution_count": null,
   "metadata": {},
   "outputs": [],
   "source": []
  }
 ],
 "metadata": {
  "kernelspec": {
   "display_name": "Python 3",
   "language": "python",
   "name": "python3"
  },
  "language_info": {
   "codemirror_mode": {
    "name": "ipython",
    "version": 3
   },
   "file_extension": ".py",
   "mimetype": "text/x-python",
   "name": "python",
   "nbconvert_exporter": "python",
   "pygments_lexer": "ipython3",
   "version": "3.6.8"
  }
 },
 "nbformat": 4,
 "nbformat_minor": 2
}
